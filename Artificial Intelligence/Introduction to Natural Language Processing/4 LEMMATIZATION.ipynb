{
 "cells": [
  {
   "cell_type": "markdown",
   "metadata": {},
   "source": [
    "#### Lemmatization is closely related to stemming. Lemmatization returns the lemmas of the word which is the base/root word."
   ]
  },
  {
   "cell_type": "markdown",
   "metadata": {},
   "source": [
    "Lemmatization in NLTK can be done using WordNet’s Lemmatizer. \n",
    "\n",
    "WordNet is a lexical database of English."
   ]
  },
  {
   "cell_type": "code",
   "execution_count": 1,
   "metadata": {},
   "outputs": [],
   "source": [
    "from nltk.stem import WordNetLemmatizer\n",
    "lemmatizer = WordNetLemmatizer()"
   ]
  },
  {
   "cell_type": "markdown",
   "metadata": {},
   "source": [
    "import nltk; nltk.download('wordnet')"
   ]
  },
  {
   "cell_type": "code",
   "execution_count": 2,
   "metadata": {},
   "outputs": [
    {
     "name": "stdout",
     "output_type": "stream",
     "text": "is\nare\nbe\nbe\nworking\nwork\n"
    }
   ],
   "source": [
    "# Lemmatisation depends upon the Part of Speech of the word\n",
    "# lemmatize(word, pos=NOUN)\n",
    "# the default part of speech (pos) for lemmatize method is \"n\", i.e. noun\n",
    "# we can specify part of speech (pos) value like below:\n",
    "# noun = n, verb = v, adjective = a, adverb = r\n",
    " \n",
    "print (lemmatizer.lemmatize('is')) # output: is\n",
    "print (lemmatizer.lemmatize('are')) # output: are\n",
    " \n",
    "print (lemmatizer.lemmatize('is', pos='v')) # output: be\n",
    "print (lemmatizer.lemmatize('are', pos='v')) # output: be\n",
    " \n",
    "print (lemmatizer.lemmatize('working', pos='n')) # output: working\n",
    "print (lemmatizer.lemmatize('working', pos='v')) # output: work\n"
   ]
  },
  {
   "cell_type": "markdown",
   "metadata": {},
   "source": [
    "#### Lemmatising text document"
   ]
  },
  {
   "cell_type": "markdown",
   "metadata": {},
   "source": [
    "We need to first convert the text into word tokens.\n",
    "\n",
    "After that, we can lemmatize each word of the token list."
   ]
  },
  {
   "cell_type": "code",
   "execution_count": 3,
   "metadata": {},
   "outputs": [],
   "source": [
    "from nltk.tokenize import word_tokenize\n",
    "from nltk.stem import WordNetLemmatizer"
   ]
  },
  {
   "cell_type": "code",
   "execution_count": 4,
   "metadata": {},
   "outputs": [],
   "source": [
    "text = \"A quick brown fox jumps over the lazy dog.\""
   ]
  },
  {
   "cell_type": "code",
   "execution_count": 5,
   "metadata": {},
   "outputs": [],
   "source": [
    "# Normalize text\n",
    "# NLTK considers capital letters and small letters differently.\n",
    "# For example, Fox and fox are considered as two different words.\n",
    "# Hence, we convert all letters of our text into lowercase.\n",
    "text = text.lower()"
   ]
  },
  {
   "cell_type": "code",
   "execution_count": 6,
   "metadata": {},
   "outputs": [
    {
     "name": "stdout",
     "output_type": "stream",
     "text": "['a', 'quick', 'brown', 'fox', 'jumps', 'over', 'the', 'lazy', 'dog', '.']\n"
    }
   ],
   "source": [
    "# tokenize text \n",
    "words = word_tokenize(text)\n",
    " \n",
    "print (words)"
   ]
  },
  {
   "cell_type": "code",
   "execution_count": 7,
   "metadata": {},
   "outputs": [],
   "source": [
    "lemmatizer = WordNetLemmatizer()"
   ]
  },
  {
   "cell_type": "code",
   "execution_count": 8,
   "metadata": {},
   "outputs": [
    {
     "name": "stdout",
     "output_type": "stream",
     "text": "['a', 'quick', 'brown', 'fox', 'jump', 'over', 'the', 'lazy', 'dog', '.']\n"
    }
   ],
   "source": [
    "words_lemma = [lemmatizer.lemmatize(word) for word in words]\n",
    " \n",
    "# The above line of code is a shorter version of the following code:\n",
    "'''\n",
    "words_lemma = []\n",
    " \n",
    "for word in words:\n",
    "    words_lemma.append(lemmatizer.lemmatize(word))\n",
    "'''\n",
    " \n",
    "#words_lemma_2 = [str(item) for item in words_lemma]\n",
    "#print (words_lemma_2)\n",
    " \n",
    "print (words_lemma)"
   ]
  },
  {
   "cell_type": "markdown",
   "metadata": {},
   "source": [
    "* We can see in the above code that the word jumps has been converted to its base word jump."
   ]
  }
 ],
 "metadata": {
  "kernelspec": {
   "display_name": "Python 3.7.4 64-bit",
   "language": "python",
   "name": "python37464bit4ff258216e894a4b867aae2fac70db47"
  },
  "language_info": {
   "codemirror_mode": {
    "name": "ipython",
    "version": 3
   },
   "file_extension": ".py",
   "mimetype": "text/x-python",
   "name": "python",
   "nbconvert_exporter": "python",
   "pygments_lexer": "ipython3",
   "version": "3.7.4-final"
  }
 },
 "nbformat": 4,
 "nbformat_minor": 2
}