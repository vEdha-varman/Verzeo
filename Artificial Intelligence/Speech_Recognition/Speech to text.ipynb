{
 "cells": [
  {
   "cell_type": "markdown",
   "metadata": {},
   "source": [
    "### Convert Text to Speech in Python"
   ]
  },
  {
   "cell_type": "raw",
   "metadata": {},
   "source": [
    "There are several APIs available to convert text to speech in python. \n",
    "\n",
    "One of such APIs is the Google Text to Speech API commonly known as the gTTS API. \n",
    "\n",
    "gTTS is a very easy to use tool which converts the text entered, into audio which can be saved as a mp3 file.\n",
    "\n",
    "The gTTS API supports several languages including English, Hindi, Tamil, French, German and many more.\n",
    "\n",
    "The speech can be delivered in any one of the two available audio speeds, fast or slow. However, as of the latest update, it is not possible to change the voice of the generated audio."
   ]
  },
  {
   "cell_type": "code",
   "execution_count": 1,
   "metadata": {},
   "outputs": [
    {
     "name": "stdout",
     "output_type": "stream",
     "text": [
      "Collecting gTTS\n",
      "  Downloading https://files.pythonhosted.org/packages/02/0b/e19dd65623e34954fb6793765ad1c6185a669a33e6a6245939e97abeaaca/gTTS-2.0.4-py3-none-any.whl\n",
      "Requirement already satisfied: six in /home/ml/anaconda3/envs/py36/lib/python3.7/site-packages (from gTTS) (1.12.0)\n",
      "Requirement already satisfied: beautifulsoup4 in /home/ml/anaconda3/envs/py36/lib/python3.7/site-packages (from gTTS) (4.7.1)\n",
      "Requirement already satisfied: click in /home/ml/anaconda3/envs/py36/lib/python3.7/site-packages (from gTTS) (7.0)\n",
      "Collecting gtts-token>=1.1.3 (from gTTS)\n",
      "  Downloading https://files.pythonhosted.org/packages/e7/25/ca6e9cd3275bfc3097fe6b06cc31db6d3dfaf32e032e0f73fead9c9a03ce/gTTS-token-1.1.3.tar.gz\n",
      "Requirement already satisfied: requests in /home/ml/anaconda3/envs/py36/lib/python3.7/site-packages (from gTTS) (2.21.0)\n",
      "Requirement already satisfied: soupsieve>=1.2 in /home/ml/anaconda3/envs/py36/lib/python3.7/site-packages (from beautifulsoup4->gTTS) (1.9.1)\n",
      "Requirement already satisfied: chardet<3.1.0,>=3.0.2 in /home/ml/anaconda3/envs/py36/lib/python3.7/site-packages (from requests->gTTS) (3.0.4)\n",
      "Requirement already satisfied: urllib3<1.25,>=1.21.1 in /home/ml/anaconda3/envs/py36/lib/python3.7/site-packages (from requests->gTTS) (1.24.2)\n",
      "Requirement already satisfied: certifi>=2017.4.17 in /home/ml/anaconda3/envs/py36/lib/python3.7/site-packages (from requests->gTTS) (2019.6.16)\n",
      "Requirement already satisfied: idna<2.9,>=2.5 in /home/ml/anaconda3/envs/py36/lib/python3.7/site-packages (from requests->gTTS) (2.8)\n",
      "Building wheels for collected packages: gtts-token\n",
      "  Building wheel for gtts-token (setup.py) ... \u001b[?25ldone\n",
      "\u001b[?25h  Stored in directory: /home/ml/.cache/pip/wheels/dd/11/61/33f7e51bf545e910552b2255eead2a7cd8ef54064b46dceb34\n",
      "Successfully built gtts-token\n",
      "Installing collected packages: gtts-token, gTTS\n",
      "Successfully installed gTTS-2.0.4 gtts-token-1.1.3\n"
     ]
    }
   ],
   "source": [
    " ! pip install gTTS"
   ]
  },
  {
   "cell_type": "code",
   "execution_count": 4,
   "metadata": {},
   "outputs": [
    {
     "data": {
      "text/plain": [
       "32512"
      ]
     },
     "execution_count": 4,
     "metadata": {},
     "output_type": "execute_result"
    }
   ],
   "source": [
    "# Import the required module for text \n",
    "# to speech conversion \n",
    "from gtts import gTTS \n",
    "\n",
    "# This module is imported so that we can \n",
    "# play the converted audio \n",
    "import os \n",
    "\n",
    "# The text that you want to convert to audio \n",
    "mytext = \"The Shiv Sena says government formation with the Nationalist Congress Party (NCP) and the Congress is on track, regardless of Sharad Pawar's cryptic, noncommittal statements.\"\n",
    "\n",
    "# Language in which you want to convert \n",
    "language = 'en'\n",
    "\n",
    "# Passing the text and language to the engine, \n",
    "# here we have marked slow=False. Which tells \n",
    "# the module that the converted audio should \n",
    "# have a high speed \n",
    "myobj = gTTS(text=mytext, lang=language, slow=False) \n",
    "\n",
    "# Saving the converted audio in a mp3 file named \n",
    "# welcome \n",
    "myobj.save(\"welcome1.mp3\") \n",
    "\n",
    "# Playing the converted file \n",
    "os.system(\"mpg321 welcome.mp3\") \n"
   ]
  },
  {
   "cell_type": "code",
   "execution_count": null,
   "metadata": {},
   "outputs": [],
   "source": []
  },
  {
   "cell_type": "code",
   "execution_count": null,
   "metadata": {},
   "outputs": [],
   "source": []
  },
  {
   "cell_type": "code",
   "execution_count": null,
   "metadata": {},
   "outputs": [],
   "source": []
  }
 ],
 "metadata": {
  "kernelspec": {
   "display_name": "Python 3",
   "language": "python",
   "name": "python3"
  },
  "language_info": {
   "codemirror_mode": {
    "name": "ipython",
    "version": 3
   },
   "file_extension": ".py",
   "mimetype": "text/x-python",
   "name": "python",
   "nbconvert_exporter": "python",
   "pygments_lexer": "ipython3",
   "version": "3.7.2"
  }
 },
 "nbformat": 4,
 "nbformat_minor": 2
}
